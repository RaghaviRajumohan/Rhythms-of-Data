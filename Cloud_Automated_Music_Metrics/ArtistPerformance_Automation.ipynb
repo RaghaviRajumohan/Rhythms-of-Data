{
 "cells": [
  {
   "cell_type": "markdown",
   "id": "162f26f3",
   "metadata": {},
   "source": [
    "## Introduction\n",
    "\n",
    "This project utilizes Google Cloud Functions and Cloud Scheduler to automate the daily tracking of YouTube and Spotify metrics for an artist. By streamlining data collection, processing, and storage, it eliminates the need for manual intervention, making it easier for music industry professionals to monitor video performance and audience engagement. The processed metrics are stored in a Google Sheet, providing a centralized platform for evaluating an artist's reach and popularity.\n",
    "\n",
    "## Objective\n",
    "\n",
    "The primary goal of this project is to build an automated pipeline that leverages Google Cloud Scheduler for daily, real-time updates. The function collects critical metrics, including subscriber count, views, likes, and comments for the top 10 YouTube videos (excluding Shorts), along with Spotify metrics like follower count and popularity. This data is processed into a unified format and replaces previous records in a Google Sheet to maintain accuracy and eliminate redundancy. This automated workflow delivers actionable insights, empowering users to track performance and optimize engagement strategies efficiently."
   ]
  },
  {
   "cell_type": "markdown",
   "id": "865fab6d",
   "metadata": {},
   "source": [
    "### 1. Deochii Daily Daily Metrics\n",
    "\n",
    "#### Testing the cloud function"
   ]
  },
  {
   "cell_type": "code",
   "execution_count": 1,
   "id": "cd57755a",
   "metadata": {},
   "outputs": [
    {
     "name": "stdout",
     "output_type": "stream",
     "text": [
      "\u001b[1;34mCloud function executed successfully!\u001b[0m\n",
      "Response: Data stored successfully in Google Sheets!\n"
     ]
    }
   ],
   "source": [
    "import requests\n",
    "\n",
    "# Cloud Function URL\n",
    "cloud_function_url = \"https://us-central1-linear-bounty-441500-b2.cloudfunctions.net/deochii_daily_metrics\"\n",
    "\n",
    "def test_cloud_function():\n",
    "    # Send an HTTP POST request to trigger the function\n",
    "    response = requests.post(cloud_function_url)\n",
    "    \n",
    "    # Check the response status code\n",
    "    if response.status_code == 200:\n",
    "        print(\"\\033[1;34mCloud function executed successfully!\\033[0m\")\n",
    "        print(\"Response:\", response.text)\n",
    "    else:\n",
    "        print(\"Error:\", response.status_code)\n",
    "        print(\"Response:\", response.text)\n",
    "\n",
    "# Call the function to test\n",
    "test_cloud_function()"
   ]
  },
  {
   "cell_type": "markdown",
   "id": "02a54de7",
   "metadata": {},
   "source": [
    "## Deconstructing the functions \n",
    "\n",
    "These collection of functions automate the collection and storage of YouTube and Spotify metrics for an artist:\n",
    "\n",
    "1. **Retrieve Channel Info**: Fetches the YouTube channel ID and subscriber count.\n",
    "2. **Fetch Top Videos**: Retrieves the top 10 YouTube videos (excluding Shorts) and metrics like views, likes, and comments.\n",
    "3. **Spotify Data**: Gets Spotify popularity and follower count for the artist.\n",
    "4. **Update Google Sheets**: Replaces old data in a Google Sheet with the latest metrics."
   ]
  },
  {
   "cell_type": "markdown",
   "id": "9dafa61e",
   "metadata": {},
   "source": [
    "### *Step 1* : Extracting channel ID and subscriber count from YouTube username"
   ]
  },
  {
   "cell_type": "code",
   "execution_count": 2,
   "id": "f621ee30",
   "metadata": {},
   "outputs": [],
   "source": [
    "def get_channel_info(api_key, username):\n",
    "    \n",
    "    url = \"https://www.googleapis.com/youtube/v3/search\"\n",
    "    params = {\n",
    "        \"part\": \"snippet\",\n",
    "        \"q\": username,\n",
    "        \"type\": \"channel\",\n",
    "        \"key\": api_key\n",
    "    }\n",
    "    \n",
    "    response = requests.get(url, params=params)\n",
    "    response.raise_for_status()\n",
    "    logging.info(\"YouTube API request successful for username: %s\", username)\n",
    "    \n",
    "    items = response.json().get(\"items\", [])\n",
    "    \n",
    "    channel_id = items[0][\"snippet\"][\"channelId\"]\n",
    "    subscriber_count = fetch_youtube_subscribers(api_key, channel_id)\n",
    "    logging.info(\"Subscriber count retrieved for channel ID %s: %d\", channel_id, subscriber_count)\n",
    "    \n",
    "    return channel_id, subscriber_count"
   ]
  },
  {
   "cell_type": "markdown",
   "id": "3136efc4",
   "metadata": {},
   "source": [
    "### *Step 2* : To fetch top 10 Youtube videos by view count and metrics"
   ]
  },
  {
   "cell_type": "code",
   "execution_count": 3,
   "id": "4f3a693a",
   "metadata": {},
   "outputs": [
    {
     "ename": "SyntaxError",
     "evalue": "expected 'except' or 'finally' block (740217545.py, line 43)",
     "output_type": "error",
     "traceback": [
      "\u001b[0;36m  Cell \u001b[0;32mIn[3], line 43\u001b[0;36m\u001b[0m\n\u001b[0;31m    def fetch_youtube_video_stats(api_key, video_id):\u001b[0m\n\u001b[0m                                                     ^\u001b[0m\n\u001b[0;31mSyntaxError\u001b[0m\u001b[0;31m:\u001b[0m expected 'except' or 'finally' block\n"
     ]
    }
   ],
   "source": [
    "def fetch_top_10_youtube_videos(api_key, channel_id):\n",
    "    try:\n",
    "        logging.info(\"Fetching top 10 videos from YouTube channel\")\n",
    "        url = \"https://www.googleapis.com/youtube/v3/search\"\n",
    "        params = {\n",
    "            \"part\": \"snippet\",\n",
    "            \"channelId\": channel_id,\n",
    "            \"order\": \"viewCount\",\n",
    "            \"type\": \"video\",\n",
    "            \"maxResults\": 100, \n",
    "            \"key\": api_key\n",
    "        }\n",
    "        \n",
    "        response = requests.get(url, params=params)\n",
    "        response.raise_for_status()\n",
    "        \n",
    "        videos = []\n",
    "        count = 1\n",
    "        for item in response.json()[\"items\"]:\n",
    "            if \"shorts\" not in item[\"snippet\"][\"title\"].lower():  # Exclude shorts based on title keyword\n",
    "                video_id = item[\"id\"][\"videoId\"]\n",
    "                title = item[\"snippet\"][\"title\"]\n",
    "                channel_title = item[\"snippet\"][\"channelTitle\"]\n",
    "                \n",
    "                # Fetching video statistics\n",
    "                video_stats = fetch_youtube_video_stats(api_key, video_id)\n",
    "                videos.append({\n",
    "                    \"Rank\": count,\n",
    "                    \"Title\": title,\n",
    "                    \"Artist Name\": channel_title,\n",
    "                    \"Views\": video_stats[\"viewCount\"],\n",
    "                    \"Likes\": video_stats[\"likeCount\"],\n",
    "                    \"Comments\": video_stats[\"commentCount\"],\n",
    "                    \"Video ID\": video_id\n",
    "                })\n",
    "                \n",
    "                count += 1\n",
    "                if count > 10:  # Limit to top 10 videos\n",
    "                    break\n",
    "        return videos\n",
    "\n",
    "# Function to fetch video statistics\n",
    "def fetch_youtube_video_stats(api_key, video_id):\n",
    "    url = \"https://www.googleapis.com/youtube/v3/videos\"\n",
    "    params = {\n",
    "        \"part\": \"statistics\",\n",
    "        \"id\": video_id,\n",
    "        \"key\": api_key\n",
    "    }\n",
    "    \n",
    "    response = requests.get(url, params=params)\n",
    "    response.raise_for_status()\n",
    "    stats = response.json()[\"items\"][0][\"statistics\"]\n",
    "    return {\n",
    "        \"viewCount\": int(stats.get(\"viewCount\", 0)),\n",
    "        \"likeCount\": int(stats.get(\"likeCount\", 0)),\n",
    "        \"commentCount\": int(stats.get(\"commentCount\", 0))\n",
    "    }"
   ]
  },
  {
   "cell_type": "markdown",
   "id": "69216ec4",
   "metadata": {},
   "source": [
    "### *Step 3* : Accessing Spotify metrics"
   ]
  },
  {
   "cell_type": "code",
   "execution_count": null,
   "id": "97195cf4",
   "metadata": {},
   "outputs": [],
   "source": [
    "def get_spotify_token():\n",
    "    try:\n",
    "        logging.info(\"Loading Spotify credentials\")\n",
    "        client_id = os.getenv(\"CLIENT_ID\")\n",
    "        client_secret = os.getenv(\"CLIENT_SECRET\")\n",
    "        \n",
    "        if not client_id or not client_secret:\n",
    "            raise ValueError(\"Spotify CLIENT_ID or CLIENT_SECRET is not set in the environment variables\")\n",
    "\n",
    "        url = \"https://accounts.spotify.com/api/token\"\n",
    "        headers = {\n",
    "            \"Authorization\": \"Basic \" + base64.b64encode(f\"{client_id}:{client_secret}\".encode()).decode()\n",
    "        }\n",
    "        data = {\"grant_type\": \"client_credentials\"}\n",
    "        \n",
    "        response = requests.post(url, headers=headers, data=data)\n",
    "        response.raise_for_status()\n",
    "        \n",
    "        access_token = response.json().get(\"access_token\")\n",
    "        logging.info(\"Spotify token received\")\n",
    "        return access_token\n",
    "\n",
    "# Function to fetch artist data from Spotify by name\n",
    "def fetch_spotify_artist_data(token, artist_name):\n",
    "    try:\n",
    "        logging.info(\"Fetching artist data for %s from Spotify\", artist_name)\n",
    "        url = \"https://api.spotify.com/v1/search\"\n",
    "        headers = {\"Authorization\": f\"Bearer {token}\"}\n",
    "        params = {\"q\": artist_name, \"type\": \"artist\", \"limit\": 1}\n",
    "        \n",
    "        response = requests.get(url, headers=headers, params=params)\n",
    "        response.raise_for_status()\n",
    "        \n",
    "        artist = response.json()[\"artists\"][\"items\"][0]\n",
    "        artist_data = {\n",
    "            \"Spotify Popularity\": artist[\"popularity\"],\n",
    "            \"Followers\": artist[\"followers\"][\"total\"]\n",
    "        }\n",
    "        return artist_data"
   ]
  },
  {
   "cell_type": "markdown",
   "id": "cd1267a0",
   "metadata": {},
   "source": [
    "### *Step 4* : Storing data in a Google Sheet"
   ]
  },
  {
   "cell_type": "code",
   "execution_count": null,
   "id": "d9fc8159",
   "metadata": {},
   "outputs": [],
   "source": [
    "def store_to_google_sheets(data, subscribers, sheet_name=\"Doechii Daily Metrics\"):\n",
    "    try:\n",
    "        logging.info(\"Authenticating with Google Sheets API\")\n",
    "        scope = [\"https://www.googleapis.com/auth/spreadsheets\", \"https://www.googleapis.com/auth/drive\"]\n",
    "        creds = service_account.Credentials.from_service_account_file(\"service_account_key.json\", scopes=scope)\n",
    "        client = gspread.authorize(creds)\n",
    "        \n",
    "        logging.info(f\"Opening Google Sheet: {sheet_name}\")\n",
    "        sheet = client.open(sheet_name).sheet1\n",
    "\n",
    "        # Insert each artist's data at the top (after headers)\n",
    "        for artist_data in reversed(data):  # Reverse to keep rank order\n",
    "            new_row = [\n",
    "                artist_data[\"Rank\"],\n",
    "                artist_data[\"Title\"],\n",
    "                artist_data[\"Artist Name\"],\n",
    "                artist_data[\"Views\"],\n",
    "                artist_data[\"Likes\"],\n",
    "                artist_data[\"Comments\"],\n",
    "                subscribers,  # Add YouTube subscribers\n",
    "                artist_data.get(\"Spotify Popularity\", \"N/A\"),\n",
    "                artist_data.get(\"Followers\", \"N/A\"),\n",
    "                datetime.now().strftime(\"%Y-%m-%d\"),\n",
    "                datetime.now().strftime(\"%H:%M:%S\")\n",
    "            ]\n",
    "            \n",
    "            logging.info(\"Inserting data into Google Sheets at the top: %s\", new_row)\n",
    "            sheet.insert_row(new_row, index=2)\n",
    "        \n",
    "        logging.info(\"Data successfully inserted into Google Sheets at the top\")\n"
   ]
  },
  {
   "cell_type": "markdown",
   "id": "c5c81c66",
   "metadata": {},
   "source": [
    "### *Step 5* : Final Function "
   ]
  },
  {
   "cell_type": "code",
   "execution_count": null,
   "id": "f099a9e9",
   "metadata": {},
   "outputs": [],
   "source": [
    "# Main cloud function entry point\n",
    "def main(request):\n",
    "    try:\n",
    "        logging.info(\"Starting cloud function execution\")\n",
    "        \n",
    "        # Retrieve the channel ID and subscriber count\n",
    "        channel_id, subscribers = get_channel_info(YOUTUBE_API_KEY, CHANNEL_USERNAME)\n",
    "        \n",
    "        # Fetch top 10 videos from YouTube\n",
    "        youtube_videos = fetch_top_10_youtube_videos(YOUTUBE_API_KEY, channel_id)\n",
    "        \n",
    "        # Enrich with Spotify data\n",
    "        spotify_token = get_spotify_token()\n",
    "        enriched_data = []\n",
    "        for video in youtube_videos:\n",
    "            spotify_data = fetch_spotify_artist_data(spotify_token, SPOTIFY_ARTIST_NAME)\n",
    "            video.update(spotify_data)\n",
    "            enriched_data.append(video)\n",
    "        \n",
    "        # Store in Google Sheets\n",
    "        store_to_google_sheets(enriched_data, subscribers)\n",
    "        \n",
    "        logging.info(\"Data processing complete and stored in Google Sheets\")\n",
    "        return \"Data stored successfully in Google Sheets!\"\n",
    "    except Exception as e:\n",
    "        logging.error(\"Error in cloud function execution: %s\", e)\n",
    "        return f\"Error: {e}\", 500"
   ]
  }
 ],
 "metadata": {
  "kernelspec": {
   "display_name": "Python 3 (ipykernel)",
   "language": "python",
   "name": "python3"
  },
  "language_info": {
   "codemirror_mode": {
    "name": "ipython",
    "version": 3
   },
   "file_extension": ".py",
   "mimetype": "text/x-python",
   "name": "python",
   "nbconvert_exporter": "python",
   "pygments_lexer": "ipython3",
   "version": "3.11.4"
  }
 },
 "nbformat": 4,
 "nbformat_minor": 5
}
