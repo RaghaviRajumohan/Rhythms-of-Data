{
 "cells": [
  {
   "cell_type": "code",
   "execution_count": 1,
   "id": "785469d6",
   "metadata": {},
   "outputs": [
    {
     "name": "stdout",
     "output_type": "stream",
     "text": [
      "\u001b[1;34mCloud function executed successfully!\u001b[0m\n",
      "Response: Comments updated successfully in Google Sheets!\n"
     ]
    }
   ],
   "source": [
    "import requests\n",
    "\n",
    "# Cloud Function URL\n",
    "cloud_function_url = \"https://us-central1-linear-bounty-441500-b2.cloudfunctions.net/katy_perry_comments\"\n",
    "\n",
    "def test_cloud_function():\n",
    "    # Send an HTTP POST request to trigger the function\n",
    "    response = requests.post(cloud_function_url)\n",
    "    \n",
    "    # Check the response status code\n",
    "    if response.status_code == 200:\n",
    "        print(\"\\033[1;34mCloud function executed successfully!\\033[0m\")\n",
    "        print(\"Response:\", response.text)\n",
    "    else:\n",
    "        print(\"Error:\", response.status_code)\n",
    "        print(\"Response:\", response.text)\n",
    "\n",
    "# Call the function to test\n",
    "test_cloud_function()"
   ]
  },
  {
   "cell_type": "markdown",
   "id": "fc482ed8",
   "metadata": {},
   "source": [
    "## Deconstructing the Functions\n",
    "\n",
    "These functions automate the tracking and storage of YouTube video metrics and comments:\n",
    "\n",
    "1. **Retrieve Channel and Video Information**: Gets the YouTube channel ID and retrieves the latest music video's title, views, and likes.\n",
    "\n",
    "2. **Fetch Comments**: Extracts all top-level comments for the video, including text and timestamps, sorted in reverse chronological order.\n",
    "\n",
    "3. **Store Data in Google Sheets**: Updates a Google Sheet with video metrics, comments, and metadata such as execution date and time."
   ]
  },
  {
   "cell_type": "markdown",
   "id": "2120e6f0",
   "metadata": {},
   "source": [
    "### *Step 1*: Retrieve Channel ID and Video Information"
   ]
  },
  {
   "cell_type": "code",
   "execution_count": 2,
   "id": "87c2cc53",
   "metadata": {},
   "outputs": [],
   "source": [
    "def get_channel_id(api_key, username):\n",
    "    try:\n",
    "        logging.info(f\"Fetching channel ID for username: {username}\")\n",
    "        url = \"https://www.googleapis.com/youtube/v3/search\"\n",
    "        params = {\"part\": \"snippet\", \"q\": username, \"type\": \"channel\", \"key\": api_key}\n",
    "        response = requests.get(url, params=params)\n",
    "        response.raise_for_status()\n",
    "        items = response.json().get(\"items\", [])\n",
    "        if items:\n",
    "            channel_id = items[0][\"snippet\"][\"channelId\"]\n",
    "            logging.info(f\"Successfully retrieved channel ID: {channel_id}\")\n",
    "            return channel_id\n",
    "        else:\n",
    "            raise ValueError(f\"Channel not found for username: {username}\")\n",
    "    except Exception as e:\n",
    "        logging.error(f\"Error retrieving channel ID for {username}: {e}\")\n",
    "        raise\n",
    "\n",
    "def get_latest_music_video_info(api_key, channel_id):\n",
    "    try:\n",
    "        logging.info(f\"Fetching latest music video for channel ID: {channel_id}\")\n",
    "        url = \"https://www.googleapis.com/youtube/v3/search\"\n",
    "        params = {\"part\": \"snippet\", \"channelId\": channel_id, \"order\": \"date\", \"maxResults\": 10, \"type\": \"video\", \"key\": api_key}\n",
    "        response = requests.get(url, params=params)\n",
    "        response.raise_for_status()\n",
    "        \n",
    "        for item in response.json()[\"items\"]:\n",
    "            video_id = item[\"id\"][\"videoId\"]\n",
    "            video_category = fetch_video_category(api_key, video_id)\n",
    "            if video_category == \"Music\":\n",
    "                title = item[\"snippet\"][\"title\"]\n",
    "                stats = fetch_youtube_video_stats(api_key, video_id)\n",
    "                logging.info(f\"Found music video: {title} (ID: {video_id}) with {stats['viewCount']} views and {stats['likeCount']} likes.\")\n",
    "                return video_id, title, stats[\"viewCount\"], stats[\"likeCount\"]\n",
    "        \n",
    "        raise ValueError(\"No music videos found on the channel.\")\n",
    "    except Exception as e:\n",
    "        logging.error(f\"Error fetching latest music video for channel ID {channel_id}: {e}\")\n",
    "        raise"
   ]
  },
  {
   "cell_type": "markdown",
   "id": "4be49bac",
   "metadata": {},
   "source": [
    "### *Step 2* : Fetch Video Statistics and Category"
   ]
  },
  {
   "cell_type": "code",
   "execution_count": 3,
   "id": "eb09fc41",
   "metadata": {},
   "outputs": [],
   "source": [
    "def fetch_video_category(api_key, video_id):\n",
    "    try:\n",
    "        logging.info(f\"Fetching video category for video ID: {video_id}\")\n",
    "        url = \"https://www.googleapis.com/youtube/v3/videos\"\n",
    "        params = {\"part\": \"snippet\", \"id\": video_id, \"key\": api_key}\n",
    "        response = requests.get(url, params=params)\n",
    "        response.raise_for_status()\n",
    "        category_id = response.json()[\"items\"][0][\"snippet\"][\"categoryId\"]\n",
    "        logging.info(f\"Video ID {video_id} belongs to category ID: {category_id}\")\n",
    "        return \"Music\" if category_id == \"10\" else None\n",
    "    except Exception as e:\n",
    "        logging.error(f\"Error fetching video category for video ID {video_id}: {e}\")\n",
    "        raise\n",
    "\n",
    "def fetch_youtube_video_stats(api_key, video_id):\n",
    "    try:\n",
    "        logging.info(f\"Fetching video statistics for video ID: {video_id}\")\n",
    "        url = \"https://www.googleapis.com/youtube/v3/videos\"\n",
    "        params = {\"part\": \"statistics\", \"id\": video_id, \"key\": api_key}\n",
    "        response = requests.get(url, params=params)\n",
    "        response.raise_for_status()\n",
    "        stats = response.json()[\"items\"][0][\"statistics\"]\n",
    "        logging.info(f\"Retrieved statistics: {stats}\")\n",
    "        return {\"viewCount\": int(stats.get(\"viewCount\", 0)), \"likeCount\": int(stats.get(\"likeCount\", 0))}\n",
    "    except Exception as e:\n",
    "        logging.error(f\"Error fetching video statistics for video ID {video_id}: {e}\")\n",
    "        return {\"viewCount\": 0, \"likeCount\": 0}\n"
   ]
  },
  {
   "cell_type": "markdown",
   "id": "18e1a0e1",
   "metadata": {},
   "source": [
    "### *Step 3* : Fetch Comments"
   ]
  },
  {
   "cell_type": "code",
   "execution_count": 4,
   "id": "d4b432af",
   "metadata": {},
   "outputs": [],
   "source": [
    "def fetch_all_comments(api_key, video_id):\n",
    "    try:\n",
    "        logging.info(f\"Fetching all comments for video ID: {video_id}\")\n",
    "        url = \"https://www.googleapis.com/youtube/v3/commentThreads\"\n",
    "        params = {\"part\": \"snippet\", \"videoId\": video_id, \"maxResults\": 100, \"order\": \"time\", \"key\": api_key}\n",
    "        comments = []\n",
    "        while True:\n",
    "            response = requests.get(url, params=params)\n",
    "            response.raise_for_status()\n",
    "            items = response.json().get(\"items\", [])\n",
    "            for item in items:\n",
    "                comment = item[\"snippet\"][\"topLevelComment\"][\"snippet\"]\n",
    "                comments.append({\"Comment\": comment[\"textDisplay\"], \"Time\": comment[\"publishedAt\"]})\n",
    "            if 'nextPageToken' not in response.json():\n",
    "                break\n",
    "            params['pageToken'] = response.json()['nextPageToken']\n",
    "        logging.info(f\"Retrieved {len(comments)} comments for video ID: {video_id}\")\n",
    "        return sorted(comments, key=lambda x: x[\"Time\"], reverse=True)\n",
    "    except Exception as e:\n",
    "        logging.error(f\"Error fetching comments for video ID {video_id}: {e}\")\n",
    "        raise\n"
   ]
  },
  {
   "cell_type": "markdown",
   "id": "d154cb6a",
   "metadata": {},
   "source": [
    "### *Step 4* : Store Data in Google Sheets"
   ]
  },
  {
   "cell_type": "code",
   "execution_count": 5,
   "id": "f6c2609d",
   "metadata": {},
   "outputs": [],
   "source": [
    "def store_comments_to_google_sheets(comments, video_title, views, likes):\n",
    "    try:\n",
    "        logging.info(f\"Authenticating with Google Sheets API to update sheet: {SHEET_NAME}\")\n",
    "        creds = service_account.Credentials.from_service_account_file(\n",
    "            SERVICE_ACCOUNT_FILE, \n",
    "            scopes=[\"https://www.googleapis.com/auth/spreadsheets\", \"https://www.googleapis.com/auth/drive\"]\n",
    "        )\n",
    "        sheet = gspread.authorize(creds).open(SHEET_NAME).sheet1\n",
    "        logging.info(\"Clearing existing data in the sheet\")\n",
    "        sheet.clear()\n",
    "\n",
    "        rows = [\n",
    "            [], [\"Video Title:\", video_title], [\"Views:\", views], [\"Likes:\", likes], \n",
    "            [\"Number of Comments:\", len(comments)], [\"Run Date:\", datetime.now().strftime('%Y-%m-%d')],\n",
    "            [\"Run Time:\", datetime.now().strftime('%H:%M:%S')], [], [\"\", \"\", \"Comment\", \"Date\", \"Time\"]\n",
    "        ]\n",
    "        for comment in comments:\n",
    "            timestamp = datetime.fromisoformat(comment[\"Time\"].replace(\"Z\", \"+00:00\"))\n",
    "            rows.append([\"\", \"\", comment[\"Comment\"], timestamp.strftime('%Y-%m-%d'), timestamp.strftime('%H:%M:%S')])\n",
    "        \n",
    "        logging.info(f\"Updating Google Sheet with {len(comments)} comments\")\n",
    "        sheet.update(rows)\n",
    "        logging.info(\"Google Sheet updated successfully.\")\n",
    "    except Exception as e:\n",
    "        logging.error(f\"Error updating Google Sheets: {e}\")\n",
    "        raise"
   ]
  },
  {
   "cell_type": "markdown",
   "id": "5800671f",
   "metadata": {},
   "source": [
    "### *Step 5* : Main Function"
   ]
  },
  {
   "cell_type": "code",
   "execution_count": 6,
   "id": "4c13b47e",
   "metadata": {},
   "outputs": [],
   "source": [
    "def main(request):\n",
    "    try:\n",
    "        logging.info(\"Starting cloud function execution\")\n",
    "        channel_id = get_channel_id(YOUTUBE_API_KEY, CHANNEL_USERNAME)\n",
    "        video_id, video_title, views, likes = get_latest_music_video_info(YOUTUBE_API_KEY, channel_id)\n",
    "        comments = fetch_all_comments(YOUTUBE_API_KEY, video_id)\n",
    "        store_comments_to_google_sheets(comments, video_title, views, likes)\n",
    "        logging.info(\"Comments updated successfully in Google Sheets!\")\n",
    "        return \"Comments updated successfully in Google Sheets!\"\n",
    "    except Exception as e:\n",
    "        logging.error(f\"Error in function execution: {e}\")\n",
    "        return f\"Error: {e}\", 500"
   ]
  }
 ],
 "metadata": {
  "kernelspec": {
   "display_name": "Python 3 (ipykernel)",
   "language": "python",
   "name": "python3"
  },
  "language_info": {
   "codemirror_mode": {
    "name": "ipython",
    "version": 3
   },
   "file_extension": ".py",
   "mimetype": "text/x-python",
   "name": "python",
   "nbconvert_exporter": "python",
   "pygments_lexer": "ipython3",
   "version": "3.11.4"
  }
 },
 "nbformat": 4,
 "nbformat_minor": 5
}
