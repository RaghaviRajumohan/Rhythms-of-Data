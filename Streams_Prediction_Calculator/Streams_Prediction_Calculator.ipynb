{
 "cells": [
  {
   "cell_type": "markdown",
   "id": "e639c4d2",
   "metadata": {},
   "source": [
    "## Sreams Prediction Calculator\n",
    "\n",
    "Building an interactive widget-based user interface for predicting song streams based on input features using the cloud function we built. The interface allows users to input values for features through sliders and toggle buttons, sends the data to the cloud function for predictions, and displays the results dynamically."
   ]
  },
  {
   "cell_type": "code",
   "execution_count": 1,
   "id": "d1f098e5",
   "metadata": {
    "scrolled": false
   },
   "outputs": [],
   "source": [
    "import ipywidgets as widgets\n",
    "from IPython.display import display\n",
    "import requests\n",
    "import numpy as np\n",
    "\n",
    "# Define the URL for your cloud function\n",
    "url = \"https://us-west2-streamsregression.cloudfunctions.net/streams_prediction\"\n",
    "\n",
    "# Define input widgets with realistic ranges and bold titles\n",
    "acousticness = widgets.FloatSlider(description='Acousticness:',min=0.0, max=1.0, step=0.01, value=0.3,style={'description_width': 'initial'})\n",
    "liveness = widgets.FloatSlider(description='Liveness:',min=0.0, max=1.2, step=0.01, value=0.2,style={'description_width': 'initial'})\n",
    "speechiness = widgets.FloatSlider(description='Speechiness:',min=0.0, max=0.4, step=0.01, value=0.1,style={'description_width': 'initial'})\n",
    "instrumentalness = widgets.FloatSlider(description='Instrumentalness:',min=0.0, max=1.0, step=0.01, value=0.3,style={'description_width': 'initial'})\n",
    "duration_ms = widgets.IntSlider(description='Duration:',min=10000, max=600000, step=10000, value=200000,style={'description_width': 'initial'})\n",
    "valence = widgets.FloatSlider(description='Valence:',min=0.0, max=1.0, step=0.01, value=0.5,style={'description_width': 'initial'})\n",
    "comments = widgets.IntSlider(description='Comments:',min=0, max=2000, step=10, value=100,style={'description_width': 'initial'})\n",
    "\n",
    "# ToggleButtons for Licensed\n",
    "licensed = widgets.ToggleButtons(options=[('Yes', 1), ('No', 0)],description='Licensed:',value=1,style={'description_width': 'initial'})\n",
    "# ToggleButtons for Album Single\n",
    "album_single = widgets.ToggleButtons(options=[('Yes', 1), ('No', 0)],description='Album Single:',value=1,style={'description_width': 'initial'})\n",
    "\n",
    "# Define output widget\n",
    "output = widgets.Output()\n",
    "\n",
    "# Define function to handle button click event\n",
    "def on_predict_button_clicked(b):\n",
    "    with output:\n",
    "        output.clear_output()\n",
    "        # Prepare input dictionary\n",
    "        input_data = {\n",
    "            \"Acousticness\": acousticness.value,\n",
    "            \"Liveness\": liveness.value,\n",
    "            \"Speechiness\": speechiness.value,\n",
    "            \"Instrumentalness\": instrumentalness.value,\n",
    "            \"Licensed\": licensed.value,\n",
    "            \"Duration_ms\": duration_ms.value,\n",
    "            \"Valence\": valence.value,\n",
    "            \"Comments\": comments.value,\n",
    "            \"Album_single\": album_single.value\n",
    "        }\n",
    "        # Call the cloud function with the input data\n",
    "        try:\n",
    "            response = requests.post(url, json=input_data)\n",
    "            response_data = response.json()\n",
    "            if \"Stream Prediction (log)\" in response_data:\n",
    "                streams_prediction = np.expm1(response_data[\"Stream Prediction (log)\"])\n",
    "                print(\"\\033[1;34mPredicted Streams:\\033[0m\", f\"{streams_prediction:,.2f} streams\")\n",
    "            else:\n",
    "                print(\"Error:\", response_data.get(\"message\", \"Unexpected server response.\"))\n",
    "        except Exception as e:\n",
    "            print(\"Error:\", str(e))\n",
    "\n",
    "# Define predict button with blue and bold styling\n",
    "predict_button = widgets.Button(\n",
    "    description='Predict',\n",
    "    button_style='primary',\n",
    "    layout=widgets.Layout(width='100px', height='40px'),\n",
    "    style={'font_weight': 'bold'}\n",
    ")\n",
    "predict_button.on_click(on_predict_button_clicked)\n",
    "\n",
    "# Add a title with `widgets.HTML`\n",
    "title = widgets.HTML(\"<h3><b>Song Features Input Form</b></h3>\")\n",
    "spacer = widgets.HTML(\"<br>\")"
   ]
  },
  {
   "cell_type": "code",
   "execution_count": 2,
   "id": "a0ff0855",
   "metadata": {},
   "outputs": [
    {
     "data": {
      "application/vnd.jupyter.widget-view+json": {
       "model_id": "4372665414ee4270a58869b356d12894",
       "version_major": 2,
       "version_minor": 0
      },
      "text/plain": [
       "VBox(children=(HTML(value='<h3><b>Song Features Input Form</b></h3>'), FloatSlider(value=0.3, description='Aco…"
      ]
     },
     "metadata": {},
     "output_type": "display_data"
    }
   ],
   "source": [
    "# Display input widgets\n",
    "display(widgets.VBox([title, acousticness, liveness, speechiness, instrumentalness,duration_ms, valence, comments, licensed, album_single, spacer, predict_button, output]))"
   ]
  }
 ],
 "metadata": {
  "kernelspec": {
   "display_name": "Python 3 (ipykernel)",
   "language": "python",
   "name": "python3"
  },
  "language_info": {
   "codemirror_mode": {
    "name": "ipython",
    "version": 3
   },
   "file_extension": ".py",
   "mimetype": "text/x-python",
   "name": "python",
   "nbconvert_exporter": "python",
   "pygments_lexer": "ipython3",
   "version": "3.11.4"
  }
 },
 "nbformat": 4,
 "nbformat_minor": 5
}
